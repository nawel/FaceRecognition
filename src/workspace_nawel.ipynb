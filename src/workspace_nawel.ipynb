{
 "cells": [
  {
   "cell_type": "markdown",
   "metadata": {},
   "source": [
    "# SURF "
   ]
  },
  {
   "cell_type": "code",
   "execution_count": 1,
   "metadata": {
    "collapsed": false
   },
   "outputs": [
    {
     "data": {
      "text/plain": [
       "True"
      ]
     },
     "execution_count": 1,
     "metadata": {},
     "output_type": "execute_result"
    }
   ],
   "source": [
    "import cv2\n",
    "import matplotlib.pyplot as plt\n",
    "import drawMatches\n",
    "\n",
    "img = cv2.imread('house.png',0)\n",
    "\n",
    "surf = cv2.SURF(10000)\n",
    "kp, des = surf.detectAndCompute(img,None)\n",
    "\n",
    "img2 = cv2.drawKeypoints(img,kp,None,(255,0,0),4)\n",
    "cv2.imwrite('surf_keypoints.jpg',img2)"
   ]
  },
  {
   "cell_type": "code",
   "execution_count": 21,
   "metadata": {
    "collapsed": true
   },
   "outputs": [],
   "source": [
    "from matplotlib.pyplot import imshow\n",
    "%matplotlib inline"
   ]
  },
  {
   "cell_type": "code",
   "execution_count": 60,
   "metadata": {
    "collapsed": false
   },
   "outputs": [
    {
     "ename": "error",
     "evalue": "/home/travis/miniconda/conda-bld/work/opencv-2.4.11/modules/core/src/stat.cpp:2480: error: (-215) (type == CV_8U && dtype == CV_32S) || dtype == CV_32F in function batchDistance\n",
     "output_type": "error",
     "traceback": [
      "\u001b[0;31m---------------------------------------------------------------------------\u001b[0m",
      "\u001b[0;31merror\u001b[0m                                     Traceback (most recent call last)",
      "\u001b[0;32m<ipython-input-60-40cd6b755556>\u001b[0m in \u001b[0;36m<module>\u001b[0;34m()\u001b[0m\n\u001b[1;32m      8\u001b[0m \u001b[0mkp2\u001b[0m\u001b[0;34m,\u001b[0m \u001b[0mdes2\u001b[0m \u001b[0;34m=\u001b[0m \u001b[0mextract_sift\u001b[0m\u001b[0;34m(\u001b[0m\u001b[0;34m'subject9/subject09.happy.png'\u001b[0m\u001b[0;34m,\u001b[0m \u001b[0moctave\u001b[0m\u001b[0;34m=\u001b[0m\u001b[0;36m3\u001b[0m\u001b[0;34m,\u001b[0m \u001b[0mcontrast\u001b[0m\u001b[0;34m=\u001b[0m\u001b[0;36m0.03\u001b[0m\u001b[0;34m,\u001b[0m \u001b[0medge\u001b[0m\u001b[0;34m=\u001b[0m\u001b[0;36m10\u001b[0m\u001b[0;34m,\u001b[0m \u001b[0msigma\u001b[0m\u001b[0;34m=\u001b[0m\u001b[0;36m1.6\u001b[0m\u001b[0;34m)\u001b[0m\u001b[0;34m\u001b[0m\u001b[0m\n\u001b[1;32m      9\u001b[0m \u001b[0;34m\u001b[0m\u001b[0m\n\u001b[0;32m---> 10\u001b[0;31m \u001b[0mmatcher\u001b[0m\u001b[0;34m(\u001b[0m\u001b[0mkp1\u001b[0m\u001b[0;34m,\u001b[0m \u001b[0mkp2\u001b[0m\u001b[0;34m,\u001b[0m \u001b[0mdes1\u001b[0m\u001b[0;34m,\u001b[0m \u001b[0mdes2\u001b[0m\u001b[0;34m)\u001b[0m\u001b[0;34m\u001b[0m\u001b[0m\n\u001b[0m\u001b[1;32m     11\u001b[0m \u001b[0;34m\u001b[0m\u001b[0m\n\u001b[1;32m     12\u001b[0m \u001b[0;32mfrom\u001b[0m \u001b[0mIPython\u001b[0m\u001b[0;34m.\u001b[0m\u001b[0mdisplay\u001b[0m \u001b[0;32mimport\u001b[0m \u001b[0mImage\u001b[0m\u001b[0;34m\u001b[0m\u001b[0m\n",
      "\u001b[0;32m<ipython-input-59-2263720ac0ea>\u001b[0m in \u001b[0;36mmatcher\u001b[0;34m(kp1, kp2, des1, des2)\u001b[0m\n\u001b[1;32m      3\u001b[0m     \u001b[0mbf\u001b[0m \u001b[0;34m=\u001b[0m \u001b[0mcv2\u001b[0m\u001b[0;34m.\u001b[0m\u001b[0mBFMatcher\u001b[0m\u001b[0;34m(\u001b[0m\u001b[0mcv2\u001b[0m\u001b[0;34m.\u001b[0m\u001b[0mNORM_HAMMING\u001b[0m \u001b[0;34m)\u001b[0m\u001b[0;34m\u001b[0m\u001b[0m\n\u001b[1;32m      4\u001b[0m \u001b[0;34m\u001b[0m\u001b[0m\n\u001b[0;32m----> 5\u001b[0;31m     \u001b[0mmatches\u001b[0m \u001b[0;34m=\u001b[0m \u001b[0mbf\u001b[0m\u001b[0;34m.\u001b[0m\u001b[0mknnMatch\u001b[0m\u001b[0;34m(\u001b[0m\u001b[0mdes1\u001b[0m\u001b[0;34m,\u001b[0m\u001b[0mdes2\u001b[0m\u001b[0;34m,\u001b[0m \u001b[0mk\u001b[0m\u001b[0;34m=\u001b[0m\u001b[0;36m2\u001b[0m\u001b[0;34m)\u001b[0m\u001b[0;34m\u001b[0m\u001b[0m\n\u001b[0m\u001b[1;32m      6\u001b[0m \u001b[0;34m\u001b[0m\u001b[0m\n\u001b[1;32m      7\u001b[0m     \u001b[0;31m# Apply ratio test\u001b[0m\u001b[0;34m\u001b[0m\u001b[0;34m\u001b[0m\u001b[0m\n",
      "\u001b[0;31merror\u001b[0m: /home/travis/miniconda/conda-bld/work/opencv-2.4.11/modules/core/src/stat.cpp:2480: error: (-215) (type == CV_8U && dtype == CV_32S) || dtype == CV_32F in function batchDistance\n"
     ]
    }
   ],
   "source": [
    "import numpy as np\n",
    "import cv2\n",
    "from matplotlib import pyplot as plt\n",
    "import drawMatches as dm\n",
    "\n",
    "# find the keypoints and descriptors with SIFT\n",
    "kp1, des1 = extract_sift('subject9/subject09.normal.png', octave=3, contrast=0.03, edge=10, sigma=1.6)\n",
    "kp2, des2 = extract_sift('subject9/subject09.happy.png', octave=3, contrast=0.03, edge=10, sigma=1.6)\n",
    "\n",
    "matcher(kp1, kp2, des1, des2)\n",
    "\n",
    "from IPython.display import Image\n",
    "Image(filename='match.jpg') "
   ]
  },
  {
   "cell_type": "code",
   "execution_count": null,
   "metadata": {
    "collapsed": false
   },
   "outputs": [],
   "source": []
  },
  {
   "cell_type": "code",
   "execution_count": 52,
   "metadata": {
    "collapsed": true
   },
   "outputs": [],
   "source": [
    "def extract_sift(path, octave=3, contrast=0.03, edge=10, sigma=1.6):    \n",
    "    \"\"\"\n",
    "    Extract SIFT keypoints and descriptors from an image\n",
    "    \"\"\"\n",
    "    import numpy as np\n",
    "    import cv2\n",
    "    img=cv2.imread(path,0)\n",
    "    sift = cv2.SIFT(nOctaveLayers=octave, contrastThreshold=contrast, edgeThreshold=edge, sigma=sigma)\n",
    "    kp, des = sift.detectAndCompute(img,None)\n",
    "    \n",
    "    return kp,des\n",
    "    \n",
    "    "
   ]
  },
  {
   "cell_type": "code",
   "execution_count": null,
   "metadata": {
    "collapsed": false
   },
   "outputs": [],
   "source": [
    "kp,des=extract_sift_features('../dataset/1f/face/1f073.pgm')\n",
    "img2 = cv2.drawKeypoints(img1,kp,None,(255,0,0),4)\n",
    "cv2.imwrite('surf_keypoints.jpg',img2)"
   ]
  },
  {
   "cell_type": "code",
   "execution_count": 53,
   "metadata": {
    "collapsed": false
   },
   "outputs": [],
   "source": [
    "def extract_surf(path, hessian=50, octave=4, octaveLayers=2, ext=False):    \n",
    "    \"\"\"\n",
    "    Extract SURF keypoints and descriptors from an image\n",
    "    \"\"\"\n",
    "    import numpy as np\n",
    "    import cv2\n",
    "    img=cv2.imread(path,0)\n",
    "    surf = cv2.SURF(hessianThreshold=hessian, nOctaves=octave, nOctaveLayers=octaveLayers, extended=ext)\n",
    "    kp, des = surf.detectAndCompute(img,None)\n",
    "    \n",
    "    return kp,des\n",
    "    "
   ]
  },
  {
   "cell_type": "code",
   "execution_count": null,
   "metadata": {
    "collapsed": false
   },
   "outputs": [],
   "source": [
    "kp,des=extract_surf_features('../dataset/1f/face/1f073.pgm')\n",
    "img2 = cv2.drawKeypoints(img1,kp,None,(255,0,0),4)\n",
    "cv2.imwrite('surf_keypoints.jpg',img2)"
   ]
  },
  {
   "cell_type": "code",
   "execution_count": null,
   "metadata": {
    "collapsed": true
   },
   "outputs": [],
   "source": [
    "import pickle\n",
    "dataset = pickle.load(open(\"../output/LabeledData.obj\", \"rb\"))\n"
   ]
  },
  {
   "cell_type": "code",
   "execution_count": 61,
   "metadata": {
    "collapsed": false
   },
   "outputs": [],
   "source": [
    "def matcher(kp1, kp2, des1, des2):\n",
    "    # BFMatcher with default params\n",
    "    bf = cv2.BFMatcher()\n",
    "\n",
    "    matches = bf.knnMatch(des1,des2, k=2)\n",
    "\n",
    "    # Apply ratio test\n",
    "    good = []\n",
    "    for m,n in matches:\n",
    "        if m.distance < 0.75*n.distance:\n",
    "            good.append([m])\n",
    "\n",
    "\n",
    "    # cv2.drawMatchesKnn expects list of lists as matches.\n",
    "    img3 = dm.drawMatches(img1,kp1,img2,kp2,good)\n",
    "\n",
    "    #plt.imshow(img3),plt.show()\n",
    "    print len(good), len(des1)\n",
    "    cv2.imwrite('match.jpg',img3)"
   ]
  },
  {
   "cell_type": "code",
   "execution_count": null,
   "metadata": {
    "collapsed": false
   },
   "outputs": [],
   "source": [
    "def create_database(dataset, method=\"sift\"):\n",
    "    \"\"\"\n",
    "    Creates a database of features and appended labels for all images in dataset\n",
    "    \"\"\"\n",
    "    X=[]\n",
    "    Y=[]\n",
    "    for img in dataset:\n",
    "        if method==\"sift\":\n",
    "            kp,des=extract_sift_features(img[0])\n",
    "        if method==\"surf\":\n",
    "            kp,des=extract_surf_features(img[0])\n",
    "        for d in des:\n",
    "            X.append(d)\n",
    "            Y.append(img[1])\n",
    "        del des\n",
    "    del img\n",
    "    return X,Y"
   ]
  },
  {
   "cell_type": "code",
   "execution_count": null,
   "metadata": {
    "collapsed": false
   },
   "outputs": [],
   "source": [
    "X, Y= create_database(dataset)"
   ]
  },
  {
   "cell_type": "code",
   "execution_count": null,
   "metadata": {
    "collapsed": false
   },
   "outputs": [],
   "source": []
  }
 ],
 "metadata": {
  "kernelspec": {
   "display_name": "Python [Root]",
   "language": "python",
   "name": "Python [Root]"
  },
  "language_info": {
   "codemirror_mode": {
    "name": "ipython",
    "version": 2
   },
   "file_extension": ".py",
   "mimetype": "text/x-python",
   "name": "python",
   "nbconvert_exporter": "python",
   "pygments_lexer": "ipython2",
   "version": "2.7.12"
  }
 },
 "nbformat": 4,
 "nbformat_minor": 1
}
